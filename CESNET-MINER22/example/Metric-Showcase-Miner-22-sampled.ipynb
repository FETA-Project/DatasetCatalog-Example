{
 "cells": [
  {
   "cell_type": "code",
   "execution_count": 1,
   "id": "26fbb774-356c-4927-b033-8ce51b5d72e9",
   "metadata": {},
   "outputs": [],
   "source": [
    "import sys\n",
    "# Import NDVM modules to load pickled data\n",
    "sys.path.append('/home/dosoukup/Dataset/drift-katoda-v2/katoda-tools/ndvm/modules')\n",
    "sys.path.append('/home/dosoukup/Dataset/drift-katoda-v2/katoda-tools/ndvm')\n",
    "import os\n",
    "import pickle\n",
    "import metric1, metric2, metric3\n",
    "import json\n",
    "from pprint import pprint\n",
    "import warnings\n",
    "warnings.filterwarnings('ignore')\n",
    "import numpy as np\n",
    "import matplotlib.pyplot as plt\n",
    "from sklearn.metrics import auc\n",
    "import matplotlib.cm as cm\n",
    "import pandas as pd"
   ]
  },
  {
   "cell_type": "code",
   "execution_count": 4,
   "id": "7685f83b-770e-4540-a2c5-52bdf0276699",
   "metadata": {},
   "outputs": [],
   "source": [
    "REPORT_NAME = \"../output/report-dataset-1752469252\""
   ]
  },
  {
   "cell_type": "markdown",
   "id": "d3232de9-ce9d-4712-a940-e98d4c769200",
   "metadata": {},
   "source": [
    "# General Report "
   ]
  },
  {
   "cell_type": "code",
   "execution_count": 5,
   "id": "eb45498a-8171-421f-a214-ac648e60db94",
   "metadata": {},
   "outputs": [
    {
     "name": "stdout",
     "output_type": "stream",
     "text": [
      "{'Analyzed Samples': {'Miner': 2003, 'Other': 1996},\n",
      " 'Classes': 2,\n",
      " 'Date': '07/14/25',\n",
      " 'Duplicated Feature Vectors': 0,\n",
      " 'Feature List': {'int8* PPI_PKT_DIRECTIONS': '',\n",
      "                  'string LABEL': '',\n",
      "                  'time TIME_FIRST': '',\n",
      "                  'time TIME_LAST': '',\n",
      "                  'time* PPI_PKT_TIMES': '',\n",
      "                  'uint16 DST_PORT': '',\n",
      "                  'uint16 SRC_PORT': '',\n",
      "                  'uint16* PPI_PKT_LENGTHS': '',\n",
      "                  'uint32 PACKETS': '',\n",
      "                  'uint32 PACKETS_REV': '',\n",
      "                  'uint64 BYTES': '',\n",
      "                  'uint64 BYTES_REV': '',\n",
      "                  'uint8 PROTOCOL': '',\n",
      "                  'uint8 TCP_FLAGS': '',\n",
      "                  'uint8 TCP_FLAGS_REV': '',\n",
      "                  'uint8* PPI_PKT_FLAGS': ''},\n",
      " 'Features': 15,\n",
      " 'N/A Values': 0,\n",
      " 'Original Samples': {'Miner': 2003, 'Other': 1996},\n",
      " 'Sampling Limit': 25000}\n"
     ]
    }
   ],
   "source": [
    "with open(REPORT_NAME+'.csv', 'r') as file:\n",
    "    basic = json.load(file)\n",
    "pprint(basic)"
   ]
  }
 ],
 "metadata": {
  "kernelspec": {
   "display_name": "Python 3 (ipykernel)",
   "language": "python",
   "name": "python3"
  },
  "language_info": {
   "codemirror_mode": {
    "name": "ipython",
    "version": 3
   },
   "file_extension": ".py",
   "mimetype": "text/x-python",
   "name": "python",
   "nbconvert_exporter": "python",
   "pygments_lexer": "ipython3",
   "version": "3.11.5"
  }
 },
 "nbformat": 4,
 "nbformat_minor": 5
}
